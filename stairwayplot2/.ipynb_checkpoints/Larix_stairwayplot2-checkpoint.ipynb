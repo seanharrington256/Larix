{
 "cells": [
  {
   "cell_type": "markdown",
   "id": "ef2f029e",
   "metadata": {},
   "source": [
    "# Notebook for running stairwayplot2 on Larix data\n",
    "\n",
    "This is modified from a notebook for the same purpose from Dr. Arianna Kuhn"
   ]
  },
  {
   "cell_type": "code",
   "execution_count": 1,
   "id": "53986969",
   "metadata": {},
   "outputs": [],
   "source": [
    "# import some stuff\n",
    "import glob\n",
    "#import ipyparallel as ipp\n",
    "import os\n",
    "import subprocess\n",
    "# \n",
    "# # For this to work, dadi must be installed\n",
    "# # I run this from my easySFS conda environment - has dadi installed - check the current environment\n",
    "# !conda env list\n",
    "# \n",
    "# easySFS = \"/Users/harrington/easySFS/easySFS.py\"\n",
    "# # run easySFS and test that it is installed & spits out the options\n",
    "# !$easySFS -h"
   ]
  },
  {
   "cell_type": "code",
   "execution_count": 2,
   "id": "ab1dc535",
   "metadata": {},
   "outputs": [
    {
     "data": {
      "text/plain": [
       "['dp05mis05_Coast-8',\n",
       " 'dp05mis05_Interior_North-12',\n",
       " 'dp05mis05_Interior_South-18',\n",
       " 'dp05mis075_Coast-8',\n",
       " 'dp05mis075_Interior_North-14',\n",
       " 'dp05mis075_Interior_South-18',\n",
       " 'dp05mis09_Coast-10',\n",
       " 'dp05mis09_Interior_North-16',\n",
       " 'dp05mis09_Interior_South-24',\n",
       " 'ipyrad_Coast-8',\n",
       " 'ipyrad_Interior_North-14',\n",
       " 'ipyrad_Interior_South-18']"
      ]
     },
     "execution_count": 2,
     "metadata": {},
     "output_type": "execute_result"
    }
   ],
   "source": [
    "# Set up some directories\n",
    "analysis_dir = \"/home/sharrin2/inbreh/larix_turck/stair_out/\"\n",
    "sfs_dir = \"/home/sharrin2/inbreh/larix_turck/sfs_stair/\"\n",
    "stairwayplot_es_dir = \"/home/sharrin2/inbreh/software/stairway_plot_es\"\n",
    "\n",
    "\n",
    "all_pops = glob.glob(sfs_dir + \"*\")\n",
    "all_pops = sorted([x.split(\"/\")[-1].rsplit(\".\", 1)[0] for x in all_pops])\n",
    "\n",
    "all_pops"
   ]
  },
  {
   "cell_type": "code",
   "execution_count": 3,
   "id": "62c5b9f7",
   "metadata": {},
   "outputs": [
    {
     "data": {
      "text/plain": [
       "{'dp05mis05_Coast-8': 8,\n",
       " 'dp05mis05_Interior_North-12': 12,\n",
       " 'dp05mis05_Interior_South-18': 18,\n",
       " 'dp05mis075_Coast-8': 8,\n",
       " 'dp05mis075_Interior_North-14': 14,\n",
       " 'dp05mis075_Interior_South-18': 18,\n",
       " 'dp05mis09_Coast-10': 10,\n",
       " 'dp05mis09_Interior_North-16': 16,\n",
       " 'dp05mis09_Interior_South-24': 24,\n",
       " 'ipyrad_Coast-8': 8,\n",
       " 'ipyrad_Interior_North-14': 14,\n",
       " 'ipyrad_Interior_South-18': 18}"
      ]
     },
     "execution_count": 3,
     "metadata": {},
     "output_type": "execute_result"
    }
   ],
   "source": [
    "# get the number of samples for each from the SFS\n",
    "samp_dict = {}\n",
    "\n",
    "# Loop through each file in `all_pops`\n",
    "for pop in all_pops:\n",
    "    file_path = os.path.join(sfs_dir, f\"{pop}.sfs\")\n",
    "    \n",
    "    # Open the file and read the first line\n",
    "    with open(file_path, 'r') as file:\n",
    "        first_line = file.readline().strip()\n",
    "        \n",
    "        # Extract the first number on the first line and subtract 1 (num samps is num bins -1, because there is a bin for monomorphics)\n",
    "        nsfs = int(first_line.split()[0]) - 1\n",
    "        \n",
    "    # Add to the dictionary with `pop` as key and `first_number` as value\n",
    "    samp_dict[pop] = nsfs\n",
    "\n",
    "# Display the dictionary\n",
    "samp_dict"
   ]
  },
  {
   "cell_type": "markdown",
   "id": "12922a28",
   "metadata": {},
   "source": [
    "### make blueprint files for each population\n",
    "\n",
    "Use mutation rate of \n",
    "\n",
    "1.19939E–09 / year\n",
    "\n",
    "\n",
    "   "
   ]
  },
  {
   "cell_type": "code",
   "execution_count": 4,
   "id": "f44fc7f1-f1b6-49b5-88d7-e8c991cc31cd",
   "metadata": {},
   "outputs": [],
   "source": [
    "# set generation time and mutation rate\n",
    "\n",
    "# gen_time = 100\n",
    "gen_time = 200\n",
    "# gen_time = 300\n",
    "\n",
    "\n",
    "mu = 1.19939e-09 * gen_time\n",
    "\n"
   ]
  },
  {
   "cell_type": "code",
   "execution_count": null,
   "id": "f1faf7f1-f33d-41c3-9f7e-9017d11a6fd1",
   "metadata": {},
   "outputs": [],
   "source": [
    "# Make a dictionary of the sequence lengths for each population:\n",
    "\n",
    "seql_dict = {}\n",
    "seql_dict['dp05mis05_Coast-8'] = 495715\n",
    "seql_dict['dp05mis05_Interior_North-12'] = 495715\n",
    "seql_dict['dp05mis05_Interior_South-18'] = 495715\n",
    "\n",
    "seql_dict['dp05mis075_Coast-8'] = 112992\n",
    "seql_dict['dp05mis075_Interior_North-14'] = 112992\n",
    "seql_dict['dp05mis075_Interior_South-18'] = 112992\n",
    "\n",
    "seql_dict['dp05mis09_Coast-10'] = 12131\n",
    "seql_dict['dp05mis09_Interior_North-16'] = 12131\n",
    "seql_dict['dp05mis09_Interior_South-24'] = 12131\n",
    "\n",
    "seql_dict['ipyrad_Coast-8'] = 3732122\n",
    "seql_dict['ipyrad_Interior_North-14'] = 3732122\n",
    "seql_dict['ipyrad_Interior_South-18'] = 3732122\n",
    "\n",
    "\n"
   ]
  },
  {
   "cell_type": "code",
   "execution_count": null,
   "id": "3230eb27",
   "metadata": {},
   "outputs": [],
   "source": [
    "# make a blueprint template\n",
    "blueprint_template = \"\"\"#example blueprint file\n",
    "#input setting\n",
    "popid: {pop} # id of the population (no white space)\n",
    "nseq: {nseqs} # number of sequences\n",
    "L: {seq_length} # total number of observed nucleic sites, including polymorphic and monomorphic\n",
    "whether_folded: true # whethr the SFS is folded (true or false)\n",
    "SFS: {sfs} # snp frequency spectrum: number of singleton, number of doubleton, etc. (separated by white space)\n",
    "#smallest_size_of_SFS_bin_used_for_estimation: 1 # default is 1; to ignore singletons, uncomment this line and change this number to 2\n",
    "#largest_size_of_SFS_bin_used_for_estimation: 15 # default is nseq/2 for folded SFS\n",
    "pct_training: 0.67 # percentage of sites for training\n",
    "nrand: 7 15 22 28 # number of random break points for each try (separated by white space)\n",
    "project_dir: {out_dir} # project directory\n",
    "stairway_plot_dir: {stairwayplot_es_dir} # directory to the stairway plot files\n",
    "ninput: 200 # number of input files to be created for each estimation\n",
    "#random_seed: 666\n",
    "#output setting\n",
    "mu: {mu} # assumed mutation rate per site per generation\n",
    "year_per_generation: {gen_time} # assumed generation time (in years)\n",
    "#plot setting\n",
    "plot_title: {pop} # title of the plot\n",
    "xrange: 0.1,10000 # Time (1k year) range; format: xmin,xmax; \"0,0\" for default\n",
    "yrange: 0,0 # Ne (1k individual) range; format: xmin,xmax; \"0,0\" for default\n",
    "xspacing: 2 # X axis spacing\n",
    "yspacing: 2 # Y axis spacing\n",
    "fontsize: 12 # Font size\"\"\""
   ]
  },
  {
   "cell_type": "code",
   "execution_count": null,
   "id": "2cd0be91",
   "metadata": {},
   "outputs": [],
   "source": [
    "# # prototype for one population\n",
    "# pop = \"dp05mis05_Coast-8\"\n",
    "# # Get the number of samples retained in the projection\n",
    "# nsamps = samp_dict[pop]\n",
    "\n",
    "# # get the full sequence length from the stats file\n",
    "# # in_stats = vcf_dir + pop.rsplit(\"_\", 1)[0] + \"_stats.txt\"\n",
    "# #seq_length = open(in_stats).readlines()[-1].split(\",\")[1].strip().split(\")\")[0\n",
    "\n",
    "# # get the folded sfs values from the sfs file\n",
    "# pop_sfs = sfs_dir + pop + \".sfs\"\n",
    "# sfs_vals = pop_sfs = open(pop_sfs).readlines()[1].split()[1:int(nsamps/2)+1]\n",
    "\n",
    "# # make an output directory\n",
    "# out_dir = analysis_dir + pop + \"_gen\" + str(gen_time)\n",
    "\n",
    "# # Create the directory if it doesn't exist\n",
    "# os.makedirs(out_dir, exist_ok=True)\n",
    "\n",
    "\n",
    "# # Define the path for the blueprint file\n",
    "# blueprint_file =  out_dir + \"/\" + pop + \"_gen\" + str(gen_time) + \".blueprint\"\n",
    "\n",
    "\n",
    "\n",
    "# # Write the blueprint file\n",
    "# with open(blueprint_file, 'w') as outfile:\n",
    "#     outfile.write(blueprint_template.format(pop=pop, nseqs=nsamps, seq_length=seq_length, out_dir=out_dir, stairwayplot_es_dir=stairwayplot_es_dir, mu=mu, gen_time=gen_time, sfs=\" \".join(sfs_vals)))\n",
    "    \n",
    "# # This call creates $blueprint_file.sh which gets run\n",
    "# !java -cp $stairwayplot_es_dir Stairbuilder \"$blueprint_file\"\n",
    "# stairwayplot2_script = blueprint_file + \".sh\"\n",
    "# !bash \"$stairwayplot2_script\""
   ]
  },
  {
   "cell_type": "code",
   "execution_count": null,
   "id": "fdf634dc",
   "metadata": {},
   "outputs": [],
   "source": [
    "## do them all in a serial fashion, dumb but easy\n",
    "\n",
    "for pop in all_pops:\n",
    "    print(pop)\n",
    "    # Get the number of samples retained in the projection\n",
    "    nsamps = samp_dict[pop]\n",
    "\n",
    "    # get sequence length\n",
    "    seq_length = seql_dict[pop]\n",
    "        \n",
    "    # get the folded sfs values from the sfs file\n",
    "    pop_sfs = sfs_dir + pop + \".sfs\"\n",
    "    sfs_vals = pop_sfs = open(pop_sfs).readlines()[1].split()[1:int(nsamps/2)+1]\n",
    "    \n",
    "    # make an output directory\n",
    "    out_dir = analysis_dir + pop + \"_gen\" + str(gen_time)\n",
    "    \n",
    "    # Create the directory if it doesn't exist\n",
    "    os.makedirs(out_dir, exist_ok=True)\n",
    "    \n",
    "    \n",
    "    # Define the path for the blueprint file\n",
    "    blueprint_file =  out_dir + \"/\" + pop + \"_gen\" + str(gen_time) + \".blueprint\"\n",
    "\n",
    "\n",
    "    # Write the blueprint file\n",
    "    with open(blueprint_file, 'w') as outfile:\n",
    "        outfile.write(blueprint_template.format(pop=pop, nseqs=nsamps, seq_length=seq_length, out_dir=out_dir, stairwayplot_es_dir=stairwayplot_es_dir, mu=mu, gen_time=gen_time, sfs=\" \".join(sfs_vals)))\n",
    "\n",
    "    # This call creates $blueprint_file.sh which gets run\n",
    "    _ = !java -cp $stairwayplot_es_dir Stairbuilder \"$blueprint_file\"\n",
    "    stairwayplot2_script = blueprint_file + \".sh\"\n",
    "    _ = !bash \"$stairwayplot2_script\""
   ]
  }
 ],
 "metadata": {
  "kernelspec": {
   "display_name": "jdk_env",
   "language": "python",
   "name": "jdk_env"
  },
  "language_info": {
   "codemirror_mode": {
    "name": "ipython",
    "version": 3
   },
   "file_extension": ".py",
   "mimetype": "text/x-python",
   "name": "python",
   "nbconvert_exporter": "python",
   "pygments_lexer": "ipython3",
   "version": "3.12.7"
  }
 },
 "nbformat": 4,
 "nbformat_minor": 5
}
